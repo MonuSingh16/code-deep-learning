{
  "cells": [
    {
      "cell_type": "markdown",
      "metadata": {
        "colab_type": "text",
        "id": "view-in-github"
      },
      "source": [
        "<a href=\"https://colab.research.google.com/github/MonuSingh16/code-deep-learning/blob/main/creating-tensors-pytorch-colab.ipynb\" target=\"_parent\"><img src=\"https://colab.research.google.com/assets/colab-badge.svg\" alt=\"Open In Colab\"/></a>"
      ]
    },
    {
      "cell_type": "markdown",
      "metadata": {
        "id": "ACm3raDbUCk_"
      },
      "source": [
        "##  Creating Tensors on PyTorch\n",
        "\n",
        "Despite its popularity, I have noticed that many PyTorch users don’t create tensors optimally, specifically when using GPUs for model training.\n",
        "\n",
        "As a result, it drastically increases memory usage, which, in turn, kills the training process.\n",
        "\n",
        "```\n",
        "import torch\n",
        "tensors = torch.rand(100, 100).cuda()\n",
        "```\n",
        "\n",
        "The problem is that it first creates a tensor on the CPU, and then PyTorch transfers it to the GPU.\n",
        "This is slow because we unnecessarily created a tensor on the CPU, which was unnecessary.\n",
        "\n",
        "```\n",
        "import torch\n",
        "tensors = torch.rand(100, 100, device=torch.device('cuda:0'))\n",
        "```"
      ]
    },
    {
      "cell_type": "code",
      "execution_count": 2,
      "metadata": {
        "colab": {
          "base_uri": "https://localhost:8080/",
          "height": 35
        },
        "id": "KOP4k4adUBYQ",
        "outputId": "90b1f4cf-ed50-4cb5-dc8f-d0bc7d54e39a"
      },
      "outputs": [
        {
          "data": {
            "application/vnd.google.colaboratory.intrinsic+json": {
              "type": "string"
            },
            "text/plain": [
              "'cuda'"
            ]
          },
          "execution_count": 2,
          "metadata": {},
          "output_type": "execute_result"
        }
      ],
      "source": [
        "import torch\n",
        "\n",
        "#device = \"cuda\" if torch.cuda.is_available() else \"cpu\"\n",
        "#device"
      ]
    },
    {
      "cell_type": "code",
      "execution_count": 3,
      "metadata": {
        "colab": {
          "base_uri": "https://localhost:8080/"
        },
        "id": "wAclrqFoUGVw",
        "outputId": "873107a5-e83a-46dd-f3b3-4f90db9d79ab"
      },
      "outputs": [
        {
          "name": "stdout",
          "output_type": "stream",
          "text": [
            "1.96 ms ± 95.5 µs per loop (mean ± std. dev. of 7 runs, 1 loop each)\n"
          ]
        }
      ],
      "source": [
        "%timeit torch.rand(500, 500).cuda()"
      ]
    },
    {
      "cell_type": "code",
      "execution_count": 4,
      "metadata": {
        "colab": {
          "base_uri": "https://localhost:8080/"
        },
        "id": "D8EnzjLsUmHR",
        "outputId": "391f2326-738f-4595-f205-0cad5de7b063"
      },
      "outputs": [
        {
          "name": "stdout",
          "output_type": "stream",
          "text": [
            "13.7 µs ± 2.63 µs per loop (mean ± std. dev. of 7 runs, 100000 loops each)\n"
          ]
        }
      ],
      "source": [
        "%timeit torch.rand(500, 500, device=torch.device('cuda:0'))"
      ]
    },
    {
      "cell_type": "code",
      "execution_count": 5,
      "metadata": {
        "colab": {
          "base_uri": "https://localhost:8080/"
        },
        "id": "KtCajGCSUt4i",
        "outputId": "0845a054-b470-41f7-f370-77e6a1b05626"
      },
      "outputs": [
        {
          "name": "stdout",
          "output_type": "stream",
          "text": [
            "11.9 µs ± 1.89 µs per loop (mean ± std. dev. of 7 runs, 100000 loops each)\n"
          ]
        }
      ],
      "source": [
        "%timeit torch.rand(500, 500, device=device)"
      ]
    }
  ],
  "metadata": {
    "accelerator": "GPU",
    "colab": {
      "authorship_tag": "ABX9TyNX+lE8XY918lMfIQNlgBMr",
      "gpuType": "T4",
      "include_colab_link": true,
      "provenance": []
    },
    "kernelspec": {
      "display_name": "Python 3",
      "name": "python3"
    },
    "language_info": {
      "name": "python"
    }
  },
  "nbformat": 4,
  "nbformat_minor": 0
}
